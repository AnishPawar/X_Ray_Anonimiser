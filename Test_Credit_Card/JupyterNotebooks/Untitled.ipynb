{
 "cells": [
  {
   "cell_type": "code",
   "execution_count": 81,
   "id": "configured-kenya",
   "metadata": {},
   "outputs": [],
   "source": [
    "from imutils import contours\n",
    "import numpy as np\n",
    "import argparse\n",
    "import imutils\n",
    "import cv2\n",
    "import matplotlib.pyplot as plt\n",
    "\n",
    "FIRST_NUMBER = {\n",
    "\"3\": \"American Express\",\n",
    "\"4\": \"Visa\",\n",
    "\"5\": \"MasterCard\",\n",
    "\"6\": \"Discover Card\"\n",
    "}"
   ]
  },
  {
   "cell_type": "code",
   "execution_count": 82,
   "id": "seasonal-investor",
   "metadata": {},
   "outputs": [],
   "source": [
    "ref = cv2.imread(\"ocr_a_reference.png\")\n",
    "ref = cv2.cvtColor(ref, cv2.COLOR_BGR2GRAY)\n",
    "ref = cv2.threshold(ref, 10, 255, cv2.THRESH_BINARY_INV)[1]"
   ]
  },
  {
   "cell_type": "code",
   "execution_count": 83,
   "id": "aggressive-energy",
   "metadata": {},
   "outputs": [],
   "source": [
    "refCnts = cv2.findContours(ref.copy(), cv2.RETR_EXTERNAL,\n",
    "cv2.CHAIN_APPROX_SIMPLE)\n",
    "refCnts = imutils.grab_contours(refCnts)\n",
    "refCnts = contours.sort_contours(refCnts, method=\"left-to-right\")[0]\n",
    "digits = {}"
   ]
  },
  {
   "cell_type": "code",
   "execution_count": 84,
   "id": "destroyed-speaking",
   "metadata": {},
   "outputs": [],
   "source": [
    "for (i, c) in enumerate(refCnts):\n",
    "# compute the bounding box for the digit, extract it, and resize\n",
    "# it to a fixed size\n",
    "    (x, y, w, h) = cv2.boundingRect(c)\n",
    "    roi = ref[y:y + h, x:x + w]\n",
    "    roi = cv2.resize(roi, (57, 88))\n",
    "    # update the digits dictionary, mapping the digit name to the ROI\n",
    "    digits[i] = roi"
   ]
  },
  {
   "cell_type": "code",
   "execution_count": 85,
   "id": "sufficient-impression",
   "metadata": {},
   "outputs": [],
   "source": [
    "rectKernel = cv2.getStructuringElement(cv2.MORPH_RECT, (9, 3))\n",
    "sqKernel = cv2.getStructuringElement(cv2.MORPH_RECT, (5, 5))"
   ]
  },
  {
   "cell_type": "code",
   "execution_count": 86,
   "id": "atlantic-saturday",
   "metadata": {},
   "outputs": [],
   "source": [
    "image = cv2.imread(\"mastercard.png\")\n",
    "image = imutils.resize(image, width=300)\n",
    "gray = cv2.cvtColor(image, cv2.COLOR_BGR2GRAY)"
   ]
  },
  {
   "cell_type": "code",
   "execution_count": 87,
   "id": "filled-immune",
   "metadata": {},
   "outputs": [],
   "source": [
    "tophat = cv2.morphologyEx(gray, cv2.MORPH_TOPHAT, rectKernel)"
   ]
  },
  {
   "cell_type": "code",
   "execution_count": 88,
   "id": "governing-driving",
   "metadata": {},
   "outputs": [],
   "source": [
    "gradX = cv2.Sobel(tophat, ddepth=cv2.CV_32F, dx=1, dy=0,\n",
    "ksize=-1)\n",
    "gradX = np.absolute(gradX)\n",
    "(minVal, maxVal) = (np.min(gradX), np.max(gradX))\n",
    "gradX = (255 * ((gradX - minVal) / (maxVal - minVal)))\n",
    "gradX = gradX.astype(\"uint8\")"
   ]
  },
  {
   "cell_type": "code",
   "execution_count": 89,
   "id": "prospective-lottery",
   "metadata": {},
   "outputs": [],
   "source": [
    "gradX = cv2.morphologyEx(gradX, cv2.MORPH_CLOSE, rectKernel)\n",
    "thresh = cv2.threshold(gradX, 0, 255,\n",
    "cv2.THRESH_BINARY | cv2.THRESH_OTSU)[1]\n",
    "# apply a second closing operation to the binary image, again\n",
    "# to help close gaps between credit card number regions\n",
    "thresh = cv2.morphologyEx(thresh, cv2.MORPH_CLOSE, sqKernel)"
   ]
  },
  {
   "cell_type": "code",
   "execution_count": 90,
   "id": "respected-sarah",
   "metadata": {},
   "outputs": [],
   "source": [
    "cnts = cv2.findContours(thresh.copy(), cv2.RETR_EXTERNAL,\n",
    "cv2.CHAIN_APPROX_SIMPLE)\n",
    "cnts = imutils.grab_contours(cnts)\n",
    "locs = []"
   ]
  },
  {
   "cell_type": "code",
   "execution_count": 91,
   "id": "combined-little",
   "metadata": {},
   "outputs": [],
   "source": [
    "for (i, c) in enumerate(cnts):\n",
    "    # compute the bounding box of the contour, then use the\n",
    "    # bounding box coordinates to derive the aspect ratio\n",
    "    (x, y, w, h) = cv2.boundingRect(c)\n",
    "    ar = w / float(h)\n",
    "    \n",
    "    # since credit cards used a fixed size fonts with 4 groups\n",
    "    # of 4 digits, we can prune potential contours based on the\n",
    "    # aspect ratio\n",
    "    \n",
    "    if ar > 2.5 and ar < 4.0:\n",
    "        # contours can further be pruned on minimum/maximum width\n",
    "        # and height\n",
    "        if (w > 40 and w < 55) and (h > 10 and h < 20):\n",
    "            # append the bounding box region of the digits group\n",
    "            # to our locations list\n",
    "            locs.append((x, y, w, h))"
   ]
  },
  {
   "cell_type": "code",
   "execution_count": 92,
   "id": "assisted-instrumentation",
   "metadata": {},
   "outputs": [],
   "source": [
    "locs = sorted(locs, key=lambda x:x[0])\n",
    "output = []"
   ]
  },
  {
   "cell_type": "code",
   "execution_count": 93,
   "id": "cubic-moment",
   "metadata": {},
   "outputs": [],
   "source": [
    "for (i, (gX, gY, gW, gH)) in enumerate(locs):\n",
    "    # initialize the list of group digits\n",
    "    groupOutput = []\n",
    "    # extract the group ROI of 4 digits from the grayscale image,\n",
    "    # then apply thresholding to segment the digits from the\n",
    "    # background of the credit card\n",
    "    group = gray[gY - 5:gY + gH + 5, gX - 5:gX + gW + 5]\n",
    "    group = cv2.threshold(group, 0, 255,\n",
    "        cv2.THRESH_BINARY | cv2.THRESH_OTSU)[1]\n",
    "    # detect the contours of each individual digit in the group,\n",
    "    # then sort the digit contours from left to right\n",
    "    digitCnts = cv2.findContours(group.copy(), cv2.RETR_EXTERNAL,\n",
    "        cv2.CHAIN_APPROX_SIMPLE)\n",
    "    digitCnts = imutils.grab_contours(digitCnts)\n",
    "    digitCnts = contours.sort_contours(digitCnts,\n",
    "        method=\"left-to-right\")[0]"
   ]
  },
  {
   "cell_type": "code",
   "execution_count": 102,
   "id": "productive-apparel",
   "metadata": {},
   "outputs": [
    {
     "ename": "IndentationError",
     "evalue": "unindent does not match any outer indentation level (<tokenize>, line 20)",
     "output_type": "error",
     "traceback": [
      "\u001b[0;36m  File \u001b[0;32m\"<tokenize>\"\u001b[0;36m, line \u001b[0;32m20\u001b[0m\n\u001b[0;31m    groupOutput.append(str(np.argmax(scores)))\u001b[0m\n\u001b[0m    ^\u001b[0m\n\u001b[0;31mIndentationError\u001b[0m\u001b[0;31m:\u001b[0m unindent does not match any outer indentation level\n"
     ]
    }
   ],
   "source": [
    "\tfor c in digitCnts:\n",
    "\t\t# compute the bounding box of the individual digit, extract\n",
    "\t\t# the digit, and resize it to have the same fixed size as\n",
    "\t\t# the reference OCR-A images\n",
    "\t\t(x, y, w, h) = cv2.boundingRect(c)\n",
    "\t\troi = group[y:y + h, x:x + w]\n",
    "\t\troi = cv2.resize(roi, (57, 88))\n",
    "\t\t# initialize a list of template matching scores\t\n",
    "\t\tscores = []\n",
    "\t\t# loop over the reference digit name and digit ROI\n",
    "\t\tfor (digit, digitROI) in digits.items():\n",
    "\t\t\t# apply correlation-based template matching, take the\n",
    "\t\t\t# score, and update the scores list\n",
    "\t\t\tresult = cv2.matchTemplate(roi, digitROI,\n",
    "\t\t\t\tcv2.TM_CCOEFF)\n",
    "\t\t\t(_, score, _, _) = cv2.minMaxLoc(result)\n",
    "\t\t\tscores.append(score)\n",
    "\t\t# the classification for the digit ROI will be the reference\n",
    "\t\t# digit name with the *largest* template matching score\n",
    "\t\tgroupOutput.append(str(np.argmax(scores)))\n",
    "        # draw the digit classifications around the group\n",
    "        cv2.rectangle(image, (gX - 5, gY - 5),(gX + gW + 5, gY + gH + 5), (0, 0, 255), 2)\n",
    "        cv2.putText(image, \"\".join(groupOutput), (gX, gY - 15),cv2.FONT_HERSHEY_SIMPLEX, 0.65, (0, 0, 255), 2)\n",
    "        # update the output digits list\n",
    "        output.extend(groupOutput)"
   ]
  },
  {
   "cell_type": "code",
   "execution_count": null,
   "id": "suited-experience",
   "metadata": {},
   "outputs": [],
   "source": []
  },
  {
   "cell_type": "code",
   "execution_count": 95,
   "id": "communist-criminal",
   "metadata": {},
   "outputs": [
    {
     "ename": "IndexError",
     "evalue": "list index out of range",
     "output_type": "error",
     "traceback": [
      "\u001b[0;31m---------------------------------------------------------------------------\u001b[0m",
      "\u001b[0;31mIndexError\u001b[0m                                Traceback (most recent call last)",
      "\u001b[0;32m<ipython-input-95-e93fa7098fbe>\u001b[0m in \u001b[0;36m<module>\u001b[0;34m\u001b[0m\n\u001b[1;32m      1\u001b[0m \u001b[0;31m# display the output credit card information to the screen\u001b[0m\u001b[0;34m\u001b[0m\u001b[0;34m\u001b[0m\u001b[0;34m\u001b[0m\u001b[0m\n\u001b[0;32m----> 2\u001b[0;31m \u001b[0mprint\u001b[0m\u001b[0;34m(\u001b[0m\u001b[0;34m\"Credit Card Type: {}\"\u001b[0m\u001b[0;34m.\u001b[0m\u001b[0mformat\u001b[0m\u001b[0;34m(\u001b[0m\u001b[0mFIRST_NUMBER\u001b[0m\u001b[0;34m[\u001b[0m\u001b[0moutput\u001b[0m\u001b[0;34m[\u001b[0m\u001b[0;36m0\u001b[0m\u001b[0;34m]\u001b[0m\u001b[0;34m]\u001b[0m\u001b[0;34m)\u001b[0m\u001b[0;34m)\u001b[0m\u001b[0;34m\u001b[0m\u001b[0;34m\u001b[0m\u001b[0m\n\u001b[0m\u001b[1;32m      3\u001b[0m \u001b[0mprint\u001b[0m\u001b[0;34m(\u001b[0m\u001b[0;34m\"Credit Card #: {}\"\u001b[0m\u001b[0;34m.\u001b[0m\u001b[0mformat\u001b[0m\u001b[0;34m(\u001b[0m\u001b[0;34m\"\"\u001b[0m\u001b[0;34m.\u001b[0m\u001b[0mjoin\u001b[0m\u001b[0;34m(\u001b[0m\u001b[0moutput\u001b[0m\u001b[0;34m)\u001b[0m\u001b[0;34m)\u001b[0m\u001b[0;34m)\u001b[0m\u001b[0;34m\u001b[0m\u001b[0;34m\u001b[0m\u001b[0m\n\u001b[1;32m      4\u001b[0m \u001b[0mplt\u001b[0m\u001b[0;34m.\u001b[0m\u001b[0mimshow\u001b[0m\u001b[0;34m(\u001b[0m\u001b[0mimage\u001b[0m\u001b[0;34m)\u001b[0m\u001b[0;34m\u001b[0m\u001b[0;34m\u001b[0m\u001b[0m\n\u001b[1;32m      5\u001b[0m \u001b[0;31m# cv2.imshow(\"Image\", image)\u001b[0m\u001b[0;34m\u001b[0m\u001b[0;34m\u001b[0m\u001b[0;34m\u001b[0m\u001b[0m\n",
      "\u001b[0;31mIndexError\u001b[0m: list index out of range"
     ]
    }
   ],
   "source": [
    "# display the output credit card information to the screen\n",
    "print(\"Credit Card Type: {}\".format(FIRST_NUMBER[output[0]]))\n",
    "print(\"Credit Card #: {}\".format(\"\".join(output)))\n",
    "plt.imshow(image)\n",
    "# cv2.imshow(\"Image\", image)\n",
    "# cv2.waitKey(0)"
   ]
  },
  {
   "cell_type": "code",
   "execution_count": null,
   "id": "working-polymer",
   "metadata": {},
   "outputs": [],
   "source": []
  },
  {
   "cell_type": "code",
   "execution_count": null,
   "id": "subject-costume",
   "metadata": {},
   "outputs": [],
   "source": []
  },
  {
   "cell_type": "code",
   "execution_count": null,
   "id": "revised-negotiation",
   "metadata": {},
   "outputs": [],
   "source": []
  }
 ],
 "metadata": {
  "kernelspec": {
   "display_name": "Python 3.8.6 64-bit ('tf24': conda)",
   "language": "python",
   "name": "python386jvsc74a57bd052c184ffeef2bfa5fdead3017a1f79a812a9e20f04d0e235d539427715743e38"
  },
  "language_info": {
   "codemirror_mode": {
    "name": "ipython",
    "version": 3
   },
   "file_extension": ".py",
   "mimetype": "text/x-python",
   "name": "python",
   "nbconvert_exporter": "python",
   "pygments_lexer": "ipython3",
   "version": "3.8.6"
  }
 },
 "nbformat": 4,
 "nbformat_minor": 5
}
